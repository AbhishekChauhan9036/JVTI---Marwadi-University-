{
 "cells": [
  {
   "cell_type": "code",
   "execution_count": 3,
   "id": "ad3ed961-6e43-433d-981e-a386f2dbe4d8",
   "metadata": {},
   "outputs": [],
   "source": [
    "import numpy as np"
   ]
  },
  {
   "cell_type": "code",
   "execution_count": 5,
   "id": "3acf6f21-cdce-4f7f-a01f-f09f381c848e",
   "metadata": {},
   "outputs": [],
   "source": [
    "name = \"Abhishek\""
   ]
  },
  {
   "cell_type": "code",
   "execution_count": 7,
   "id": "5cdbda73",
   "metadata": {},
   "outputs": [],
   "source": [
    "a = 10\n",
    "b = 20\n",
    "c = a+b"
   ]
  },
  {
   "cell_type": "code",
   "execution_count": 9,
   "id": "e56fed51-9d78-4d8e-bd79-6f49756bf45b",
   "metadata": {},
   "outputs": [
    {
     "name": "stdout",
     "output_type": "stream",
     "text": [
      "30\n"
     ]
    }
   ],
   "source": [
    "print(c)"
   ]
  },
  {
   "cell_type": "code",
   "execution_count": null,
   "id": "48bfbdc3-b639-442b-bbb3-29c469428a63",
   "metadata": {},
   "outputs": [],
   "source": []
  }
 ],
 "metadata": {
  "kernelspec": {
   "display_name": "Python 3 (ipykernel)",
   "language": "python",
   "name": "python3"
  },
  "language_info": {
   "codemirror_mode": {
    "name": "ipython",
    "version": 3
   },
   "file_extension": ".py",
   "mimetype": "text/x-python",
   "name": "python",
   "nbconvert_exporter": "python",
   "pygments_lexer": "ipython3",
   "version": "3.12.4"
  }
 },
 "nbformat": 4,
 "nbformat_minor": 5
}
