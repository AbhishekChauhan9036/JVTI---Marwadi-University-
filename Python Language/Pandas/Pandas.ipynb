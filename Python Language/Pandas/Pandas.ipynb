{
 "cells": [
  {
   "cell_type": "code",
   "execution_count": 1,
   "id": "c5fe41dd-d503-42e0-ae42-c6c5fbc0fddc",
   "metadata": {},
   "outputs": [
    {
     "name": "stdout",
     "output_type": "stream",
     "text": [
      "Hello World\n"
     ]
    }
   ],
   "source": [
    "print(\"Hello World\")"
   ]
  },
  {
   "cell_type": "code",
   "execution_count": 3,
   "id": "085e9162-8efa-4069-9b7e-e3bd1126d35a",
   "metadata": {},
   "outputs": [
    {
     "name": "stdout",
     "output_type": "stream",
     "text": [
      "30\n"
     ]
    }
   ],
   "source": [
    "a = 10\n",
    "b = 20\n",
    "print(a+b)"
   ]
  },
  {
   "cell_type": "code",
   "execution_count": null,
   "id": "6be6dd24-54a2-4c8d-be05-0a44672ea62c",
   "metadata": {},
   "outputs": [],
   "source": [
    "import pandas\n",
    "\n",
    "myDict = {\n",
    "  'cars': [\"BMW\", \"Volvo\", \"Ford\", \"Audi\", \"Toyota\", \"Ferrari\"],\n",
    "  'averageInKm': [12, 17, 20, 16, 24, 30]\n",
    "}\n",
    "dataShow = pandas.DataFrame(myDict)\n",
    "print(dataShow)"
   ]
  },
  {
   "cell_type": "code",
   "execution_count": 13,
   "id": "59547a64-7b66-4f54-9226-03bc3b4e1911",
   "metadata": {},
   "outputs": [
    {
     "data": {
      "text/html": [
       "<div>\n",
       "<style scoped>\n",
       "    .dataframe tbody tr th:only-of-type {\n",
       "        vertical-align: middle;\n",
       "    }\n",
       "\n",
       "    .dataframe tbody tr th {\n",
       "        vertical-align: top;\n",
       "    }\n",
       "\n",
       "    .dataframe thead th {\n",
       "        text-align: right;\n",
       "    }\n",
       "</style>\n",
       "<table border=\"1\" class=\"dataframe\">\n",
       "  <thead>\n",
       "    <tr style=\"text-align: right;\">\n",
       "      <th></th>\n",
       "      <th>cars</th>\n",
       "      <th>averageInKm</th>\n",
       "    </tr>\n",
       "  </thead>\n",
       "  <tbody>\n",
       "    <tr>\n",
       "      <th>0</th>\n",
       "      <td>BMW</td>\n",
       "      <td>12</td>\n",
       "    </tr>\n",
       "    <tr>\n",
       "      <th>1</th>\n",
       "      <td>Volvo</td>\n",
       "      <td>17</td>\n",
       "    </tr>\n",
       "    <tr>\n",
       "      <th>2</th>\n",
       "      <td>Ford</td>\n",
       "      <td>20</td>\n",
       "    </tr>\n",
       "    <tr>\n",
       "      <th>3</th>\n",
       "      <td>Audi</td>\n",
       "      <td>16</td>\n",
       "    </tr>\n",
       "    <tr>\n",
       "      <th>4</th>\n",
       "      <td>Toyota</td>\n",
       "      <td>24</td>\n",
       "    </tr>\n",
       "    <tr>\n",
       "      <th>5</th>\n",
       "      <td>Ferrari</td>\n",
       "      <td>30</td>\n",
       "    </tr>\n",
       "  </tbody>\n",
       "</table>\n",
       "</div>"
      ],
      "text/plain": [
       "      cars  averageInKm\n",
       "0      BMW           12\n",
       "1    Volvo           17\n",
       "2     Ford           20\n",
       "3     Audi           16\n",
       "4   Toyota           24\n",
       "5  Ferrari           30"
      ]
     },
     "execution_count": 13,
     "metadata": {},
     "output_type": "execute_result"
    }
   ],
   "source": [
    "dataShow"
   ]
  },
  {
   "cell_type": "code",
   "execution_count": 15,
   "id": "2fd97a7a-e22e-45fd-8e29-3c27f885bd43",
   "metadata": {},
   "outputs": [],
   "source": [
    "import pandas as pd\n",
    "Students = {\n",
    "    'Name' : [ \"Sunil\", \"Vivan\", \"Sohan\", \"Rohan\"],\n",
    "    'Enroll_No' : [121, 123, 145, 341],\n",
    "    'City_Name' : [\"Rajkot\", \"Junagadh\", \"Kolkata\", \"Delhi\"],\n",
    "    'Grade' : ['A' , 'B', 'A', 'C']\n",
    "}\n",
    "GraphShow = pd.DataFrame(Students)"
   ]
  },
  {
   "cell_type": "code",
   "execution_count": 17,
   "id": "79f22b26-bb7a-4d86-b252-6a80f0de65d7",
   "metadata": {},
   "outputs": [
    {
     "data": {
      "text/html": [
       "<div>\n",
       "<style scoped>\n",
       "    .dataframe tbody tr th:only-of-type {\n",
       "        vertical-align: middle;\n",
       "    }\n",
       "\n",
       "    .dataframe tbody tr th {\n",
       "        vertical-align: top;\n",
       "    }\n",
       "\n",
       "    .dataframe thead th {\n",
       "        text-align: right;\n",
       "    }\n",
       "</style>\n",
       "<table border=\"1\" class=\"dataframe\">\n",
       "  <thead>\n",
       "    <tr style=\"text-align: right;\">\n",
       "      <th></th>\n",
       "      <th>Name</th>\n",
       "      <th>Enroll_No</th>\n",
       "      <th>City_Name</th>\n",
       "      <th>Grade</th>\n",
       "    </tr>\n",
       "  </thead>\n",
       "  <tbody>\n",
       "    <tr>\n",
       "      <th>0</th>\n",
       "      <td>Sunil</td>\n",
       "      <td>121</td>\n",
       "      <td>Rajkot</td>\n",
       "      <td>A</td>\n",
       "    </tr>\n",
       "    <tr>\n",
       "      <th>1</th>\n",
       "      <td>Vivan</td>\n",
       "      <td>123</td>\n",
       "      <td>Junagadh</td>\n",
       "      <td>B</td>\n",
       "    </tr>\n",
       "    <tr>\n",
       "      <th>2</th>\n",
       "      <td>Sohan</td>\n",
       "      <td>145</td>\n",
       "      <td>Kolkata</td>\n",
       "      <td>A</td>\n",
       "    </tr>\n",
       "    <tr>\n",
       "      <th>3</th>\n",
       "      <td>Rohan</td>\n",
       "      <td>341</td>\n",
       "      <td>Delhi</td>\n",
       "      <td>C</td>\n",
       "    </tr>\n",
       "  </tbody>\n",
       "</table>\n",
       "</div>"
      ],
      "text/plain": [
       "    Name  Enroll_No City_Name Grade\n",
       "0  Sunil        121    Rajkot     A\n",
       "1  Vivan        123  Junagadh     B\n",
       "2  Sohan        145   Kolkata     A\n",
       "3  Rohan        341     Delhi     C"
      ]
     },
     "execution_count": 17,
     "metadata": {},
     "output_type": "execute_result"
    }
   ],
   "source": [
    "GraphShow"
   ]
  },
  {
   "cell_type": "code",
   "execution_count": null,
   "id": "38424420-0385-44c9-982b-fa661bc7eb9c",
   "metadata": {},
   "outputs": [],
   "source": [
    "print(\"Hello\")"
   ]
  },
  {
   "cell_type": "code",
   "execution_count": null,
   "id": "14cc6fa7-5fdb-4cbf-82a3-de28b38308b2",
   "metadata": {},
   "outputs": [],
   "source": []
  }
 ],
 "metadata": {
  "kernelspec": {
   "display_name": "Python 3 (ipykernel)",
   "language": "python",
   "name": "python3"
  },
  "language_info": {
   "codemirror_mode": {
    "name": "ipython",
    "version": 3
   },
   "file_extension": ".py",
   "mimetype": "text/x-python",
   "name": "python",
   "nbconvert_exporter": "python",
   "pygments_lexer": "ipython3",
   "version": "3.12.4"
  }
 },
 "nbformat": 4,
 "nbformat_minor": 5
}
